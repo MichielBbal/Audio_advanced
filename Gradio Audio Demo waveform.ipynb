{
 "cells": [
  {
   "cell_type": "markdown",
   "id": 3.0293430767166755e+38,
   "metadata": {
    "id": 3.0293430767166755e+38
   },
   "source": [
    "# Gradio Demo: waveform"
   ]
  },
  {
   "cell_type": "code",
   "execution_count": 1,
   "id": 2.7299665331067346e+38,
   "metadata": {
    "colab": {
     "base_uri": "https://localhost:8080/"
    },
    "id": 2.7299665331067346e+38,
    "outputId": "8baa9cc8-3833-422d-cb25-4b7a4f829556"
   },
   "outputs": [
    {
     "name": "stdout",
     "output_type": "stream",
     "text": [
      "\u001b[31mERROR: pip's dependency resolver does not currently take into account all the packages that are installed. This behaviour is the source of the following dependency conflicts.\r\n",
      "spyder 5.4.1 requires pyqt5<5.16, which is not installed.\r\n",
      "spyder 5.4.1 requires pyqtwebengine<5.16, which is not installed.\r\n",
      "argilla 1.6.0 requires pandas<2.0.0,>=1.0.0, but you have pandas 2.0.1 which is incompatible.\u001b[0m\u001b[31m\r\n",
      "\u001b[0m"
     ]
    }
   ],
   "source": [
    "!pip install -q gradio"
   ]
  },
  {
   "cell_type": "code",
   "execution_count": 1,
   "id": 2.8891853944186117e+38,
   "metadata": {
    "colab": {
     "base_uri": "https://localhost:8080/",
     "height": 618
    },
    "id": 2.8891853944186117e+38,
    "outputId": "b66cc8a9-f2da-4a57-a49f-ac86e67df94e"
   },
   "outputs": [
    {
     "name": "stdout",
     "output_type": "stream",
     "text": [
      "Running on local URL:  http://127.0.0.1:7864\n",
      "\n",
      "To create a public link, set `share=True` in `launch()`.\n"
     ]
    },
    {
     "data": {
      "text/html": [
       "<div><iframe src=\"http://127.0.0.1:7864/\" width=\"100%\" height=\"500\" allow=\"autoplay; camera; microphone; clipboard-read; clipboard-write;\" frameborder=\"0\" allowfullscreen></iframe></div>"
      ],
      "text/plain": [
       "<IPython.core.display.HTML object>"
      ]
     },
     "metadata": {},
     "output_type": "display_data"
    },
    {
     "data": {
      "text/plain": []
     },
     "execution_count": 1,
     "metadata": {},
     "output_type": "execute_result"
    },
    {
     "name": "stderr",
     "output_type": "stream",
     "text": [
      "ffmpeg version 6.0 Copyright (c) 2000-2023 the FFmpeg developers\n",
      "  built with Apple clang version 14.0.0 (clang-1400.0.29.202)\n",
      "  configuration: --prefix=/usr/local/Cellar/ffmpeg/6.0 --enable-shared --enable-pthreads --enable-version3 --cc=clang --host-cflags= --host-ldflags= --enable-ffplay --enable-gnutls --enable-gpl --enable-libaom --enable-libaribb24 --enable-libbluray --enable-libdav1d --enable-libmp3lame --enable-libopus --enable-librav1e --enable-librist --enable-librubberband --enable-libsnappy --enable-libsrt --enable-libsvtav1 --enable-libtesseract --enable-libtheora --enable-libvidstab --enable-libvmaf --enable-libvorbis --enable-libvpx --enable-libwebp --enable-libx264 --enable-libx265 --enable-libxml2 --enable-libxvid --enable-lzma --enable-libfontconfig --enable-libfreetype --enable-frei0r --enable-libass --enable-libopencore-amrnb --enable-libopencore-amrwb --enable-libopenjpeg --enable-libspeex --enable-libsoxr --enable-libzmq --enable-libzimg --disable-libjack --disable-indev=jack --enable-videotoolbox\n",
      "  libavutil      58.  2.100 / 58.  2.100\n",
      "  libavcodec     60.  3.100 / 60.  3.100\n",
      "  libavformat    60.  3.100 / 60.  3.100\n",
      "  libavdevice    60.  1.100 / 60.  1.100\n",
      "  libavfilter     9.  3.100 /  9.  3.100\n",
      "  libswscale      7.  1.100 /  7.  1.100\n",
      "  libswresample   4. 10.100 /  4. 10.100\n",
      "  libpostproc    57.  1.100 / 57.  1.100\n",
      "Input #0, png_pipe, from '/var/folders/cj/qtbz9fvd3svc0x28yv2756mh0000gn/T/tmpcsag2_4f.png':\n",
      "  Duration: N/A, bitrate: N/A\n",
      "  Stream #0:0: Video: png, rgba(pc), 1000x200, 25 fps, 25 tbr, 25 tbn\n",
      "Guessed Channel Layout for Input Stream #1.0 : stereo\n",
      "Input #1, wav, from '/var/folders/cj/qtbz9fvd3svc0x28yv2756mh0000gn/T/tmplinaekgz.wav':\n",
      "  Duration: 00:00:10.00, bitrate: 1536 kb/s\n",
      "  Stream #1:0: Audio: pcm_s16le ([1][0][0][0] / 0x0001), 48000 Hz, 2 channels, s16, 1536 kb/s\n",
      "Stream mapping:\n",
      "  Stream #0:0 -> #0:0 (png (native) -> h264 (libx264))\n",
      "  Stream #1:0 -> #0:1 (pcm_s16le (native) -> aac (native))\n",
      "Press [q] to stop, [?] for help\n",
      "[libx264 @ 0x7fe1ebf080c0] using cpu capabilities: MMX2 SSE2Fast SSSE3 SSE4.2 AVX FMA3 BMI2 AVX2\n",
      "[libx264 @ 0x7fe1ebf080c0] profile High, level 3.0, 4:2:0, 8-bit\n",
      "[libx264 @ 0x7fe1ebf080c0] 264 - core 164 r3095 baee400 - H.264/MPEG-4 AVC codec - Copyleft 2003-2022 - http://www.videolan.org/x264.html - options: cabac=1 ref=3 deblock=1:0:0 analyse=0x3:0x113 me=hex subme=7 psy=1 psy_rd=1.00:0.00 mixed_ref=1 me_range=16 chroma_me=1 trellis=1 8x8dct=1 cqm=0 deadzone=21,11 fast_pskip=1 chroma_qp_offset=-2 threads=6 lookahead_threads=1 sliced_threads=0 nr=0 decimate=1 interlaced=0 bluray_compat=0 constrained_intra=0 bframes=3 b_pyramid=2 b_adapt=1 b_bias=0 direct=1 weightb=1 open_gop=0 weightp=2 keyint=250 keyint_min=25 scenecut=40 intra_refresh=0 rc_lookahead=40 rc=crf mbtree=1 crf=23.0 qcomp=0.60 qpmin=0 qpmax=69 qpstep=4 ip_ratio=1.40 aq=1:1.00\n",
      "Output #0, mp4, to '/var/folders/cj/qtbz9fvd3svc0x28yv2756mh0000gn/T/tmpi57apd4f.mp4':\n",
      "  Metadata:\n",
      "    encoder         : Lavf60.3.100\n",
      "  Stream #0:0: Video: h264 (avc1 / 0x31637661), yuv420p(tv, progressive), 1000x200, q=2-31, 25 fps, 12800 tbn\n",
      "    Metadata:\n",
      "      encoder         : Lavc60.3.100 libx264\n",
      "    Side data:\n",
      "      cpb: bitrate max/min/avg: 0/0/0 buffer size: 0 vbv_delay: N/A\n",
      "  Stream #0:1: Audio: aac (LC) (mp4a / 0x6134706D), 48000 Hz, stereo, fltp, 128 kb/s\n",
      "    Metadata:\n",
      "      encoder         : Lavc60.3.100 aac\n",
      "frame=  250 fps=0.0 q=-1.0 Lsize=     195kB time=00:00:09.98 bitrate= 159.8kbits/s speed=13.6x     \n",
      "video:30kB audio:156kB subtitle:0kB other streams:0kB global headers:0kB muxing overhead: 4.615643%\n",
      "[libx264 @ 0x7fe1ebf080c0] frame I:1     Avg QP:21.00  size:  6466\n",
      "[libx264 @ 0x7fe1ebf080c0] frame P:111   Avg QP:20.98  size:   150\n",
      "[libx264 @ 0x7fe1ebf080c0] frame B:138   Avg QP:19.29  size:    48\n",
      "[libx264 @ 0x7fe1ebf080c0] consecutive B-frames: 18.0% 18.4% 20.4% 43.2%\n",
      "[libx264 @ 0x7fe1ebf080c0] mb I  I16..4: 38.1% 41.8% 20.1%\n",
      "[libx264 @ 0x7fe1ebf080c0] mb P  I16..4:  1.2%  0.6%  0.0%  P16..4:  3.0%  0.3%  0.1%  0.0%  0.0%    skip:94.7%\n",
      "[libx264 @ 0x7fe1ebf080c0] mb B  I16..4:  0.3%  0.0%  0.0%  B16..8:  2.4%  0.2%  0.0%  direct: 0.0%  skip:97.1%  L0:46.7% L1:52.7% BI: 0.5%\n",
      "[libx264 @ 0x7fe1ebf080c0] 8x8 transform intra:32.7% inter:47.1%\n",
      "[libx264 @ 0x7fe1ebf080c0] coded y,uvDC,uvAC intra: 3.6% 11.2% 8.9% inter: 0.1% 0.2% 0.1%\n",
      "[libx264 @ 0x7fe1ebf080c0] i16 v,h,dc,p: 95%  1%  3%  0%\n",
      "[libx264 @ 0x7fe1ebf080c0] i8 v,h,dc,ddl,ddr,vr,hd,vl,hu: 24%  2% 73%  0%  0%  0%  0%  0%  0%\n",
      "[libx264 @ 0x7fe1ebf080c0] i4 v,h,dc,ddl,ddr,vr,hd,vl,hu: 67% 19%  9%  0%  1%  1%  1%  1%  1%\n",
      "[libx264 @ 0x7fe1ebf080c0] i8c dc,h,v,p: 46%  3% 50%  0%\n",
      "[libx264 @ 0x7fe1ebf080c0] Weighted P-Frames: Y:0.0% UV:0.0%\n",
      "[libx264 @ 0x7fe1ebf080c0] ref P L0: 90.9%  0.6%  6.1%  2.4%\n",
      "[libx264 @ 0x7fe1ebf080c0] ref B L0: 85.8% 10.9%  3.3%\n",
      "[libx264 @ 0x7fe1ebf080c0] ref B L1: 99.4%  0.6%\n",
      "[libx264 @ 0x7fe1ebf080c0] kb/s:23.79\n",
      "[aac @ 0x7fe1ebf09380] Qavg: 313.095\n",
      "ffmpeg version 6.0 Copyright (c) 2000-2023 the FFmpeg developers\n",
      "  built with Apple clang version 14.0.0 (clang-1400.0.29.202)\n",
      "  configuration: --prefix=/usr/local/Cellar/ffmpeg/6.0 --enable-shared --enable-pthreads --enable-version3 --cc=clang --host-cflags= --host-ldflags= --enable-ffplay --enable-gnutls --enable-gpl --enable-libaom --enable-libaribb24 --enable-libbluray --enable-libdav1d --enable-libmp3lame --enable-libopus --enable-librav1e --enable-librist --enable-librubberband --enable-libsnappy --enable-libsrt --enable-libsvtav1 --enable-libtesseract --enable-libtheora --enable-libvidstab --enable-libvmaf --enable-libvorbis --enable-libvpx --enable-libwebp --enable-libx264 --enable-libx265 --enable-libxml2 --enable-libxvid --enable-lzma --enable-libfontconfig --enable-libfreetype --enable-frei0r --enable-libass --enable-libopencore-amrnb --enable-libopencore-amrwb --enable-libopenjpeg --enable-libspeex --enable-libsoxr --enable-libzmq --enable-libzimg --disable-libjack --disable-indev=jack --enable-videotoolbox\n",
      "  libavutil      58.  2.100 / 58.  2.100\n",
      "  libavcodec     60.  3.100 / 60.  3.100\n",
      "  libavformat    60.  3.100 / 60.  3.100\n",
      "  libavdevice    60.  1.100 / 60.  1.100\n",
      "  libavfilter     9.  3.100 /  9.  3.100\n",
      "  libswscale      7.  1.100 /  7.  1.100\n",
      "  libswresample   4. 10.100 /  4. 10.100\n",
      "  libpostproc    57.  1.100 / 57.  1.100\n",
      "Input #0, png_pipe, from '/var/folders/cj/qtbz9fvd3svc0x28yv2756mh0000gn/T/tmpn0ln9yb1.png':\n",
      "  Duration: N/A, bitrate: N/A\n",
      "  Stream #0:0: Video: png, rgba(pc), 1000x200, 25 fps, 25 tbr, 25 tbn\n",
      "Guessed Channel Layout for Input Stream #1.0 : stereo\n",
      "Input #1, wav, from '/var/folders/cj/qtbz9fvd3svc0x28yv2756mh0000gn/T/tmpb1ecshfd.wav':\n",
      "  Duration: 00:00:10.00, bitrate: 1536 kb/s\n",
      "  Stream #1:0: Audio: pcm_s16le ([1][0][0][0] / 0x0001), 48000 Hz, 2 channels, s16, 1536 kb/s\n",
      "Stream mapping:\n",
      "  Stream #0:0 -> #0:0 (png (native) -> h264 (libx264))\n",
      "  Stream #1:0 -> #0:1 (pcm_s16le (native) -> aac (native))\n",
      "Press [q] to stop, [?] for help\n",
      "[libx264 @ 0x7fc44c8144c0] using cpu capabilities: MMX2 SSE2Fast SSSE3 SSE4.2 AVX FMA3 BMI2 AVX2\n",
      "[libx264 @ 0x7fc44c8144c0] profile High, level 3.0, 4:2:0, 8-bit\n",
      "[libx264 @ 0x7fc44c8144c0] 264 - core 164 r3095 baee400 - H.264/MPEG-4 AVC codec - Copyleft 2003-2022 - http://www.videolan.org/x264.html - options: cabac=1 ref=3 deblock=1:0:0 analyse=0x3:0x113 me=hex subme=7 psy=1 psy_rd=1.00:0.00 mixed_ref=1 me_range=16 chroma_me=1 trellis=1 8x8dct=1 cqm=0 deadzone=21,11 fast_pskip=1 chroma_qp_offset=-2 threads=6 lookahead_threads=1 sliced_threads=0 nr=0 decimate=1 interlaced=0 bluray_compat=0 constrained_intra=0 bframes=3 b_pyramid=2 b_adapt=1 b_bias=0 direct=1 weightb=1 open_gop=0 weightp=2 keyint=250 keyint_min=25 scenecut=40 intra_refresh=0 rc_lookahead=40 rc=crf mbtree=1 crf=23.0 qcomp=0.60 qpmin=0 qpmax=69 qpstep=4 ip_ratio=1.40 aq=1:1.00\n",
      "Output #0, mp4, to '/var/folders/cj/qtbz9fvd3svc0x28yv2756mh0000gn/T/tmppixt82hw.mp4':\n",
      "  Metadata:\n",
      "    encoder         : Lavf60.3.100\n",
      "  Stream #0:0: Video: h264 (avc1 / 0x31637661), yuv420p(tv, progressive), 1000x200, q=2-31, 25 fps, 12800 tbn\n",
      "    Metadata:\n",
      "      encoder         : Lavc60.3.100 libx264\n",
      "    Side data:\n",
      "      cpb: bitrate max/min/avg: 0/0/0 buffer size: 0 vbv_delay: N/A\n",
      "  Stream #0:1: Audio: aac (LC) (mp4a / 0x6134706D), 48000 Hz, stereo, fltp, 128 kb/s\n",
      "    Metadata:\n",
      "      encoder         : Lavc60.3.100 aac\n"
     ]
    },
    {
     "name": "stderr",
     "output_type": "stream",
     "text": [
      "frame=    0 fps=0.0 q=0.0 size=       0kB time=-577014:32:22.77 bitrate=  -0.0kbits/s speed=N/A    \r",
      "frame=  190 fps=0.0 q=28.0 size=       0kB time=00:00:09.51 bitrate=   0.0kbits/s speed=18.3x    \r",
      "frame=  250 fps=0.0 q=-1.0 Lsize=     196kB time=00:00:09.98 bitrate= 160.8kbits/s speed=17.6x    \n",
      "video:31kB audio:156kB subtitle:0kB other streams:0kB global headers:0kB muxing overhead: 4.528412%\n",
      "[libx264 @ 0x7fc44c8144c0] frame I:1     Avg QP:21.29  size:  6070\n",
      "[libx264 @ 0x7fc44c8144c0] frame P:127   Avg QP:21.58  size:   152\n",
      "[libx264 @ 0x7fc44c8144c0] frame B:122   Avg QP:18.40  size:    47\n",
      "[libx264 @ 0x7fc44c8144c0] consecutive B-frames: 24.4% 20.8% 32.4% 22.4%\n",
      "[libx264 @ 0x7fc44c8144c0] mb I  I16..4: 46.3% 32.6% 21.1%\n",
      "[libx264 @ 0x7fc44c8144c0] mb P  I16..4:  1.2%  0.6%  0.1%  P16..4:  3.0%  0.3%  0.1%  0.0%  0.0%    skip:94.9%\n",
      "[libx264 @ 0x7fc44c8144c0] mb B  I16..4:  0.2%  0.1%  0.0%  B16..8:  2.4%  0.2%  0.0%  direct: 0.0%  skip:97.0%  L0:52.0% L1:47.5% BI: 0.5%\n",
      "[libx264 @ 0x7fc44c8144c0] 8x8 transform intra:32.3% inter:36.2%\n",
      "[libx264 @ 0x7fc44c8144c0] coded y,uvDC,uvAC intra: 4.3% 10.6% 8.5% inter: 0.1% 0.2% 0.1%\n",
      "[libx264 @ 0x7fc44c8144c0] i16 v,h,dc,p: 96%  1%  3%  0%\n",
      "[libx264 @ 0x7fc44c8144c0] i8 v,h,dc,ddl,ddr,vr,hd,vl,hu: 11%  3% 85%  1%  0%  0%  0%  0%  0%\n",
      "[libx264 @ 0x7fc44c8144c0] i4 v,h,dc,ddl,ddr,vr,hd,vl,hu: 67% 17% 11%  0%  1%  1%  1%  1%  0%\n",
      "[libx264 @ 0x7fc44c8144c0] i8c dc,h,v,p: 47%  6% 47%  0%\n",
      "[libx264 @ 0x7fc44c8144c0] Weighted P-Frames: Y:0.0% UV:0.0%\n",
      "[libx264 @ 0x7fc44c8144c0] ref P L0: 92.2%  0.6%  4.8%  2.4%\n",
      "[libx264 @ 0x7fc44c8144c0] ref B L0: 84.9%  9.2%  5.9%\n",
      "[libx264 @ 0x7fc44c8144c0] ref B L1: 98.7%  1.3%\n",
      "[libx264 @ 0x7fc44c8144c0] kb/s:24.90\n",
      "[aac @ 0x7fc44c815a00] Qavg: 313.095\n"
     ]
    }
   ],
   "source": [
    "import gradio as gr\n",
    "import random\n",
    "\n",
    "\n",
    "COLORS = [\n",
    "    [\"#ff0000\", \"#00ff00\"],\n",
    "    [\"#00ff00\", \"#0000ff\"],\n",
    "    [\"#0000ff\", \"#ff0000\"],\n",
    "]    \n",
    "\n",
    "def audio_waveform(audio, image):\n",
    "    return (\n",
    "        audio,\n",
    "        gr.make_waveform(audio),\n",
    "        gr.make_waveform(audio, bg_image=image, bars_color=random.choice(COLORS)),\n",
    "    )\n",
    "\n",
    "\n",
    "gr.Interface(\n",
    "    audio_waveform,\n",
    "    inputs=[gr.Audio(), gr.Image(type=\"filepath\")],\n",
    "    outputs=[\n",
    "        gr.Audio(),\n",
    "        gr.Video(),\n",
    "        gr.Video(),\n",
    "    ],\n",
    ").launch()"
   ]
  },
  {
   "cell_type": "code",
   "execution_count": null,
   "id": "49070af0",
   "metadata": {},
   "outputs": [],
   "source": []
  }
 ],
 "metadata": {
  "colab": {
   "provenance": []
  },
  "gpuClass": "standard",
  "kernelspec": {
   "display_name": "Python 3 (ipykernel)",
   "language": "python",
   "name": "python3"
  },
  "language_info": {
   "codemirror_mode": {
    "name": "ipython",
    "version": 3
   },
   "file_extension": ".py",
   "mimetype": "text/x-python",
   "name": "python",
   "nbconvert_exporter": "python",
   "pygments_lexer": "ipython3",
   "version": "3.10.9"
  }
 },
 "nbformat": 4,
 "nbformat_minor": 5
}
