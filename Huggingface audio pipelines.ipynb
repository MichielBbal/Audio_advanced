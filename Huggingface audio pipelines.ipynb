{
 "cells": [
  {
   "cell_type": "markdown",
   "id": "d97a13bc",
   "metadata": {},
   "source": [
    "# Huggingface audio pipelines\n",
    "source: https://huggingface.co/learn/audio-course/chapter2/audio_classification_pipeline?fw=pt"
   ]
  },
  {
   "cell_type": "markdown",
   "id": "88d66e31",
   "metadata": {},
   "source": [
    "# 0. Install packages"
   ]
  },
  {
   "cell_type": "code",
   "execution_count": 20,
   "id": "ca44ced2",
   "metadata": {},
   "outputs": [],
   "source": [
    "#!pip install datasets"
   ]
  },
  {
   "cell_type": "code",
   "execution_count": 13,
   "id": "24640679",
   "metadata": {},
   "outputs": [
    {
     "name": "stdout",
     "output_type": "stream",
     "text": [
      "Collecting soundfile\n",
      "  Downloading soundfile-0.12.1-py2.py3-none-macosx_10_9_x86_64.whl (1.2 MB)\n",
      "\u001b[2K     \u001b[90m━━━━━━━━━━━━━━━━━━━━━━━━━━━━━━━━━━━━━━━━\u001b[0m \u001b[32m1.2/1.2 MB\u001b[0m \u001b[31m7.7 MB/s\u001b[0m eta \u001b[36m0:00:00\u001b[0m00:01\u001b[0m:00:01\u001b[0m\n",
      "\u001b[?25hRequirement already satisfied: cffi>=1.0 in /Users/michielbontenbal/anaconda3/lib/python3.10/site-packages (from soundfile) (1.15.1)\n",
      "Requirement already satisfied: pycparser in /Users/michielbontenbal/anaconda3/lib/python3.10/site-packages (from cffi>=1.0->soundfile) (2.21)\n",
      "Installing collected packages: soundfile\n",
      "Successfully installed soundfile-0.12.1\n",
      "Note: you may need to restart the kernel to use updated packages.\n"
     ]
    }
   ],
   "source": [
    "pip install soundfile"
   ]
  },
  {
   "cell_type": "code",
   "execution_count": 16,
   "id": "a80d4ad0",
   "metadata": {},
   "outputs": [
    {
     "name": "stdout",
     "output_type": "stream",
     "text": [
      "Requirement already satisfied: datasets[audio] in /Users/michielbontenbal/anaconda3/lib/python3.10/site-packages (2.11.0)\n",
      "Requirement already satisfied: xxhash in /Users/michielbontenbal/anaconda3/lib/python3.10/site-packages (from datasets[audio]) (3.2.0)\n",
      "Requirement already satisfied: pyyaml>=5.1 in /Users/michielbontenbal/anaconda3/lib/python3.10/site-packages (from datasets[audio]) (6.0)\n",
      "Requirement already satisfied: huggingface-hub<1.0.0,>=0.11.0 in /Users/michielbontenbal/anaconda3/lib/python3.10/site-packages (from datasets[audio]) (0.16.3)\n",
      "Requirement already satisfied: packaging in /Users/michielbontenbal/anaconda3/lib/python3.10/site-packages (from datasets[audio]) (22.0)\n",
      "Requirement already satisfied: dill<0.3.7,>=0.3.0 in /Users/michielbontenbal/anaconda3/lib/python3.10/site-packages (from datasets[audio]) (0.3.6)\n",
      "Requirement already satisfied: responses<0.19 in /Users/michielbontenbal/anaconda3/lib/python3.10/site-packages (from datasets[audio]) (0.18.0)\n",
      "Requirement already satisfied: aiohttp in /Users/michielbontenbal/anaconda3/lib/python3.10/site-packages (from datasets[audio]) (3.8.4)\n",
      "Requirement already satisfied: requests>=2.19.0 in /Users/michielbontenbal/anaconda3/lib/python3.10/site-packages (from datasets[audio]) (2.31.0)\n",
      "Requirement already satisfied: pyarrow>=8.0.0 in /Users/michielbontenbal/anaconda3/lib/python3.10/site-packages (from datasets[audio]) (11.0.0)\n",
      "Requirement already satisfied: multiprocess in /Users/michielbontenbal/anaconda3/lib/python3.10/site-packages (from datasets[audio]) (0.70.14)\n",
      "Requirement already satisfied: pandas in /Users/michielbontenbal/anaconda3/lib/python3.10/site-packages (from datasets[audio]) (2.0.1)\n",
      "Requirement already satisfied: numpy>=1.17 in /Users/michielbontenbal/anaconda3/lib/python3.10/site-packages (from datasets[audio]) (1.23.5)\n",
      "Requirement already satisfied: fsspec[http]>=2021.11.1 in /Users/michielbontenbal/anaconda3/lib/python3.10/site-packages (from datasets[audio]) (2022.11.0)\n",
      "Requirement already satisfied: tqdm>=4.62.1 in /Users/michielbontenbal/anaconda3/lib/python3.10/site-packages (from datasets[audio]) (4.65.0)\n",
      "Collecting librosa\n",
      "  Downloading librosa-0.10.0.post2-py3-none-any.whl (253 kB)\n",
      "\u001b[2K     \u001b[90m━━━━━━━━━━━━━━━━━━━━━━━━━━━━━━━━━━━━━━━\u001b[0m \u001b[32m253.0/253.0 kB\u001b[0m \u001b[31m3.5 MB/s\u001b[0m eta \u001b[36m0:00:00\u001b[0ma \u001b[36m0:00:01\u001b[0m\n",
      "\u001b[?25hRequirement already satisfied: soundfile>=0.12.1 in /Users/michielbontenbal/anaconda3/lib/python3.10/site-packages (from datasets[audio]) (0.12.1)\n",
      "Requirement already satisfied: async-timeout<5.0,>=4.0.0a3 in /Users/michielbontenbal/anaconda3/lib/python3.10/site-packages (from aiohttp->datasets[audio]) (4.0.2)\n",
      "Requirement already satisfied: frozenlist>=1.1.1 in /Users/michielbontenbal/anaconda3/lib/python3.10/site-packages (from aiohttp->datasets[audio]) (1.3.3)\n",
      "Requirement already satisfied: yarl<2.0,>=1.0 in /Users/michielbontenbal/anaconda3/lib/python3.10/site-packages (from aiohttp->datasets[audio]) (1.8.2)\n",
      "Requirement already satisfied: aiosignal>=1.1.2 in /Users/michielbontenbal/anaconda3/lib/python3.10/site-packages (from aiohttp->datasets[audio]) (1.3.1)\n",
      "Requirement already satisfied: attrs>=17.3.0 in /Users/michielbontenbal/anaconda3/lib/python3.10/site-packages (from aiohttp->datasets[audio]) (22.1.0)\n",
      "Requirement already satisfied: charset-normalizer<4.0,>=2.0 in /Users/michielbontenbal/anaconda3/lib/python3.10/site-packages (from aiohttp->datasets[audio]) (2.0.4)\n",
      "Requirement already satisfied: multidict<7.0,>=4.5 in /Users/michielbontenbal/anaconda3/lib/python3.10/site-packages (from aiohttp->datasets[audio]) (6.0.4)\n",
      "Requirement already satisfied: filelock in /Users/michielbontenbal/anaconda3/lib/python3.10/site-packages (from huggingface-hub<1.0.0,>=0.11.0->datasets[audio]) (3.9.0)\n",
      "Requirement already satisfied: typing-extensions>=3.7.4.3 in /Users/michielbontenbal/anaconda3/lib/python3.10/site-packages (from huggingface-hub<1.0.0,>=0.11.0->datasets[audio]) (4.4.0)\n",
      "Requirement already satisfied: idna<4,>=2.5 in /Users/michielbontenbal/anaconda3/lib/python3.10/site-packages (from requests>=2.19.0->datasets[audio]) (2.10)\n",
      "Requirement already satisfied: certifi>=2017.4.17 in /Users/michielbontenbal/anaconda3/lib/python3.10/site-packages (from requests>=2.19.0->datasets[audio]) (2022.12.7)\n",
      "Requirement already satisfied: urllib3<3,>=1.21.1 in /Users/michielbontenbal/anaconda3/lib/python3.10/site-packages (from requests>=2.19.0->datasets[audio]) (1.26.14)\n",
      "Requirement already satisfied: cffi>=1.0 in /Users/michielbontenbal/anaconda3/lib/python3.10/site-packages (from soundfile>=0.12.1->datasets[audio]) (1.15.1)\n",
      "Requirement already satisfied: decorator>=4.3.0 in /Users/michielbontenbal/anaconda3/lib/python3.10/site-packages (from librosa->datasets[audio]) (4.4.2)\n",
      "Requirement already satisfied: msgpack>=1.0 in /Users/michielbontenbal/anaconda3/lib/python3.10/site-packages (from librosa->datasets[audio]) (1.0.3)\n",
      "Requirement already satisfied: scipy>=1.2.0 in /Users/michielbontenbal/anaconda3/lib/python3.10/site-packages (from librosa->datasets[audio]) (1.10.0)\n",
      "Collecting numba>=0.51.0\n",
      "  Downloading numba-0.57.1-cp310-cp310-macosx_10_9_x86_64.whl (2.5 MB)\n",
      "\u001b[2K     \u001b[90m━━━━━━━━━━━━━━━━━━━━━━━━━━━━━━━━━━━━━━━━\u001b[0m \u001b[32m2.5/2.5 MB\u001b[0m \u001b[31m10.7 MB/s\u001b[0m eta \u001b[36m0:00:00\u001b[0m00:01\u001b[0m00:01\u001b[0m\n",
      "\u001b[?25hCollecting soxr>=0.3.2\n",
      "  Downloading soxr-0.3.5-cp310-cp310-macosx_10_9_x86_64.whl (404 kB)\n",
      "\u001b[2K     \u001b[90m━━━━━━━━━━━━━━━━━━━━━━━━━━━━━━━━━━━━━━━\u001b[0m \u001b[32m404.5/404.5 kB\u001b[0m \u001b[31m9.1 MB/s\u001b[0m eta \u001b[36m0:00:00\u001b[0m00:01\u001b[0m\n",
      "\u001b[?25hRequirement already satisfied: scikit-learn>=0.20.0 in /Users/michielbontenbal/anaconda3/lib/python3.10/site-packages (from librosa->datasets[audio]) (1.2.2)\n",
      "Requirement already satisfied: pooch<1.7,>=1.0 in /Users/michielbontenbal/anaconda3/lib/python3.10/site-packages (from librosa->datasets[audio]) (1.4.0)\n",
      "Requirement already satisfied: joblib>=0.14 in /Users/michielbontenbal/anaconda3/lib/python3.10/site-packages (from librosa->datasets[audio]) (1.1.1)\n",
      "Collecting audioread>=2.1.9\n",
      "  Using cached audioread-3.0.0.tar.gz (377 kB)\n",
      "  Preparing metadata (setup.py) ... \u001b[?25ldone\n",
      "\u001b[?25hCollecting lazy-loader>=0.1\n",
      "  Downloading lazy_loader-0.3-py3-none-any.whl (9.1 kB)\n",
      "Requirement already satisfied: python-dateutil>=2.8.2 in /Users/michielbontenbal/anaconda3/lib/python3.10/site-packages (from pandas->datasets[audio]) (2.8.2)\n",
      "Requirement already satisfied: tzdata>=2022.1 in /Users/michielbontenbal/anaconda3/lib/python3.10/site-packages (from pandas->datasets[audio]) (2023.3)\n",
      "Requirement already satisfied: pytz>=2020.1 in /Users/michielbontenbal/anaconda3/lib/python3.10/site-packages (from pandas->datasets[audio]) (2022.7)\n",
      "Requirement already satisfied: pycparser in /Users/michielbontenbal/anaconda3/lib/python3.10/site-packages (from cffi>=1.0->soundfile>=0.12.1->datasets[audio]) (2.21)\n",
      "Collecting llvmlite<0.41,>=0.40.0dev0\n",
      "  Downloading llvmlite-0.40.1-cp310-cp310-macosx_10_9_x86_64.whl (30.4 MB)\n",
      "\u001b[2K     \u001b[90m━━━━━━━━━━━━━━━━━━━━━━━━━━━━━━━━━━━━━━━━\u001b[0m \u001b[32m30.4/30.4 MB\u001b[0m \u001b[31m11.0 MB/s\u001b[0m eta \u001b[36m0:00:00\u001b[0m00:01\u001b[0m00:01\u001b[0m\n",
      "\u001b[?25hRequirement already satisfied: appdirs in /Users/michielbontenbal/anaconda3/lib/python3.10/site-packages (from pooch<1.7,>=1.0->librosa->datasets[audio]) (1.4.4)\n",
      "Requirement already satisfied: six>=1.5 in /Users/michielbontenbal/anaconda3/lib/python3.10/site-packages (from python-dateutil>=2.8.2->pandas->datasets[audio]) (1.16.0)\n",
      "Requirement already satisfied: threadpoolctl>=2.0.0 in /Users/michielbontenbal/anaconda3/lib/python3.10/site-packages (from scikit-learn>=0.20.0->librosa->datasets[audio]) (2.2.0)\n",
      "Building wheels for collected packages: audioread\n",
      "  Building wheel for audioread (setup.py) ... \u001b[?25ldone\n",
      "\u001b[?25h  Created wheel for audioread: filename=audioread-3.0.0-py3-none-any.whl size=23704 sha256=7982d9ddbaacfd48e24230c935c2bf8a29645c42b8ca6f96b9d0706159d3921b\n",
      "  Stored in directory: /Users/michielbontenbal/Library/Caches/pip/wheels/3d/e0/4b/51b8aa4a0e2b6361c14943f7a7c2c7adb7b9cd419e0a1b720d\n",
      "Successfully built audioread\n",
      "Installing collected packages: soxr, llvmlite, lazy-loader, audioread, numba, librosa\n",
      "  Attempting uninstall: llvmlite\n",
      "    Found existing installation: llvmlite 0.39.1\n",
      "    Uninstalling llvmlite-0.39.1:\n"
     ]
    },
    {
     "name": "stdout",
     "output_type": "stream",
     "text": [
      "      Successfully uninstalled llvmlite-0.39.1\n",
      "Successfully installed audioread-3.0.0 lazy-loader-0.3 librosa-0.10.0.post2 llvmlite-0.40.1 numba-0.57.1 soxr-0.3.5\n",
      "Note: you may need to restart the kernel to use updated packages.\n"
     ]
    }
   ],
   "source": [
    "%pip install datasets\\[audio\\]"
   ]
  },
  {
   "cell_type": "code",
   "execution_count": null,
   "id": "3ab705d5",
   "metadata": {},
   "outputs": [],
   "source": []
  },
  {
   "cell_type": "markdown",
   "id": "6c179786",
   "metadata": {},
   "source": [
    "## 1. Audio classification with a pipeline\n",
    "\n",
    "source: https://huggingface.co/learn/audio-course/chapter2/audio_classification_pipeline?fw=pt"
   ]
  },
  {
   "cell_type": "code",
   "execution_count": 18,
   "id": "6fa0df9d",
   "metadata": {},
   "outputs": [
    {
     "name": "stderr",
     "output_type": "stream",
     "text": [
      "Found cached dataset minds14 (/Users/michielbontenbal/.cache/huggingface/datasets/PolyAI___minds14/en-AU/1.0.0/65c7e0f3be79e18a6ffaf879a083daf706312d421ac90d25718459cbf3c42696)\n"
     ]
    }
   ],
   "source": [
    "from datasets import load_dataset\n",
    "from datasets import Audio\n",
    "\n",
    "minds = load_dataset(\"PolyAI/minds14\", name=\"en-AU\", split=\"train\")\n",
    "minds = minds.cast_column(\"audio\", Audio(sampling_rate=16_000))"
   ]
  },
  {
   "cell_type": "code",
   "execution_count": 19,
   "id": "c9264c59",
   "metadata": {},
   "outputs": [
    {
     "name": "stderr",
     "output_type": "stream",
     "text": [
      "2023-07-07 15:42:57.566818: I tensorflow/core/platform/cpu_feature_guard.cc:182] This TensorFlow binary is optimized to use available CPU instructions in performance-critical operations.\n",
      "To enable the following instructions: AVX2 FMA, in other operations, rebuild TensorFlow with the appropriate compiler flags.\n"
     ]
    },
    {
     "data": {
      "application/vnd.jupyter.widget-view+json": {
       "model_id": "7ac7d031b5ba42f2bfeb3fe43860250b",
       "version_major": 2,
       "version_minor": 0
      },
      "text/plain": [
       "Downloading (…)lve/main/config.json:   0%|          | 0.00/2.73k [00:00<?, ?B/s]"
      ]
     },
     "metadata": {},
     "output_type": "display_data"
    },
    {
     "data": {
      "application/vnd.jupyter.widget-view+json": {
       "model_id": "f36dd21e5d174a57a46b541d2bce588d",
       "version_major": 2,
       "version_minor": 0
      },
      "text/plain": [
       "Downloading pytorch_model.bin:   0%|          | 0.00/1.26G [00:00<?, ?B/s]"
      ]
     },
     "metadata": {},
     "output_type": "display_data"
    },
    {
     "data": {
      "application/vnd.jupyter.widget-view+json": {
       "model_id": "8d43647739004621ad98f123b5551e26",
       "version_major": 2,
       "version_minor": 0
      },
      "text/plain": [
       "Downloading (…)rocessor_config.json:   0%|          | 0.00/212 [00:00<?, ?B/s]"
      ]
     },
     "metadata": {},
     "output_type": "display_data"
    }
   ],
   "source": [
    "from transformers import pipeline\n",
    "\n",
    "classifier = pipeline(\n",
    "    \"audio-classification\",\n",
    "    model=\"anton-l/xtreme_s_xlsr_300m_minds14\",\n",
    ")"
   ]
  },
  {
   "cell_type": "code",
   "execution_count": 21,
   "id": "eec47263",
   "metadata": {},
   "outputs": [
    {
     "data": {
      "text/plain": [
       "[{'score': 0.9625310301780701, 'label': 'pay_bill'},\n",
       " {'score': 0.028672754764556885, 'label': 'freeze'},\n",
       " {'score': 0.0033497940748929977, 'label': 'card_issues'},\n",
       " {'score': 0.0020058027002960443, 'label': 'abroad'},\n",
       " {'score': 0.000848432769998908, 'label': 'high_value_payment'}]"
      ]
     },
     "execution_count": 21,
     "metadata": {},
     "output_type": "execute_result"
    }
   ],
   "source": [
    "example = minds[0]\n",
    "classifier(example[\"audio\"][\"array\"])"
   ]
  },
  {
   "cell_type": "code",
   "execution_count": 22,
   "id": "f2362473",
   "metadata": {},
   "outputs": [
    {
     "data": {
      "text/plain": [
       "'pay_bill'"
      ]
     },
     "execution_count": 22,
     "metadata": {},
     "output_type": "execute_result"
    }
   ],
   "source": [
    "#look up the label\n",
    "id2label = minds.features[\"intent_class\"].int2str\n",
    "id2label(example[\"intent_class\"])"
   ]
  },
  {
   "cell_type": "markdown",
   "id": "95e1deef",
   "metadata": {},
   "source": [
    "## 2. Automatic speech recognition with a pipeline"
   ]
  },
  {
   "cell_type": "code",
   "execution_count": null,
   "id": "5be91703",
   "metadata": {},
   "outputs": [],
   "source": []
  }
 ],
 "metadata": {
  "kernelspec": {
   "display_name": "Python 3 (ipykernel)",
   "language": "python",
   "name": "python3"
  },
  "language_info": {
   "codemirror_mode": {
    "name": "ipython",
    "version": 3
   },
   "file_extension": ".py",
   "mimetype": "text/x-python",
   "name": "python",
   "nbconvert_exporter": "python",
   "pygments_lexer": "ipython3",
   "version": "3.10.9"
  }
 },
 "nbformat": 4,
 "nbformat_minor": 5
}
